{
 "cells": [
  {
   "cell_type": "markdown",
   "metadata": {},
   "source": [
    "#### Light GBM 분석"
   ]
  },
  {
   "cell_type": "code",
   "execution_count": 2,
   "metadata": {},
   "outputs": [],
   "source": [
    "import pandas as pd\n",
    "import numpy as np\n",
    "import matplotlib.pyplot as plt\n",
    "import seaborn as sns\n",
    "from pycaret.classification import *\n",
    "from pycaret.classification import ClassificationExperiment\n",
    "import os\n",
    "from sklearn.model_selection import train_test_split\n",
    "from sklearn.metrics import confusion_matrix\n",
    "\n",
    "from sklearn.tree import DecisionTreeClassifier\n",
    "from sklearn.model_selection import train_test_split\n",
    "import lightgbm as lgb\n",
    "import pandas as pd\n"
   ]
  },
  {
   "cell_type": "code",
   "execution_count": 3,
   "metadata": {},
   "outputs": [],
   "source": [
    "import warnings\n",
    "warnings.filterwarnings(action='ignore') "
   ]
  },
  {
   "cell_type": "markdown",
   "metadata": {},
   "source": [
    "#### Data Load"
   ]
  },
  {
   "cell_type": "code",
   "execution_count": 4,
   "metadata": {},
   "outputs": [],
   "source": [
    "DATA_DIR = \"../data/\"\n",
    "data = pd.read_pickle(DATA_DIR + 'base_dataset_numerical_minmax.pkl') #불러오기"
   ]
  },
  {
   "cell_type": "code",
   "execution_count": 5,
   "metadata": {},
   "outputs": [
    {
     "name": "stdout",
     "output_type": "stream",
     "text": [
      "Transformation Pipeline and Model Successfully Loaded\n"
     ]
    }
   ],
   "source": [
    "# Pycaret 최적화 모델 로드\n",
    "loaded_model = load_model('../data/tuned_model')"
   ]
  },
  {
   "cell_type": "code",
   "execution_count": 1,
   "metadata": {},
   "outputs": [
    {
     "ename": "NameError",
     "evalue": "name 'lgb' is not defined",
     "output_type": "error",
     "traceback": [
      "\u001b[1;31m---------------------------------------------------------------------------\u001b[0m",
      "\u001b[1;31mNameError\u001b[0m                                 Traceback (most recent call last)",
      "\u001b[1;32mc:\\MyJob\\sesac\\sesac-ml\\project1\\pjt_05_lgbm_analysis.ipynb Cell 7\u001b[0m line \u001b[0;36m2\n\u001b[0;32m      <a href='vscode-notebook-cell:/c%3A/MyJob/sesac/sesac-ml/project1/pjt_05_lgbm_analysis.ipynb#X10sZmlsZQ%3D%3D?line=0'>1</a>\u001b[0m \u001b[39m# 예측 데이터프레임을 LightGBM 데이터셋으로 변환\u001b[39;00m\n\u001b[1;32m----> <a href='vscode-notebook-cell:/c%3A/MyJob/sesac/sesac-ml/project1/pjt_05_lgbm_analysis.ipynb#X10sZmlsZQ%3D%3D?line=1'>2</a>\u001b[0m lgb_dataset \u001b[39m=\u001b[39m lgb\u001b[39m.\u001b[39mDataset(data\u001b[39m=\u001b[39mdata)\n\u001b[0;32m      <a href='vscode-notebook-cell:/c%3A/MyJob/sesac/sesac-ml/project1/pjt_05_lgbm_analysis.ipynb#X10sZmlsZQ%3D%3D?line=3'>4</a>\u001b[0m \u001b[39m# 저장된 모델을 LightGBM 모델로 변환\u001b[39;00m\n\u001b[0;32m      <a href='vscode-notebook-cell:/c%3A/MyJob/sesac/sesac-ml/project1/pjt_05_lgbm_analysis.ipynb#X10sZmlsZQ%3D%3D?line=4'>5</a>\u001b[0m lgb_model \u001b[39m=\u001b[39m lgb\u001b[39m.\u001b[39mBooster(model_file\u001b[39m=\u001b[39mloaded_model)\n",
      "\u001b[1;31mNameError\u001b[0m: name 'lgb' is not defined"
     ]
    }
   ],
   "source": [
    "# 예측 데이터프레임을 LightGBM 데이터셋으로 변환\n",
    "lgb_dataset = lgb.Dataset(data=data)\n",
    "\n",
    "# 저장된 모델을 LightGBM 모델로 변환\n",
    "lgb_model = lgb.Booster(model_file=loaded_model)\n",
    "\n",
    "# LightGBM 모델을 사용하여 예측\n",
    "predictions = lgb_model.predict(lgb_dataset.data)\n",
    "\n",
    "# 예측 결과를 확인\n",
    "predictions"
   ]
  },
  {
   "cell_type": "code",
   "execution_count": null,
   "metadata": {},
   "outputs": [],
   "source": []
  }
 ],
 "metadata": {
  "kernelspec": {
   "display_name": "pycaret",
   "language": "python",
   "name": "python3"
  },
  "language_info": {
   "codemirror_mode": {
    "name": "ipython",
    "version": 3
   },
   "file_extension": ".py",
   "mimetype": "text/x-python",
   "name": "python",
   "nbconvert_exporter": "python",
   "pygments_lexer": "ipython3",
   "version": "3.8.10"
  }
 },
 "nbformat": 4,
 "nbformat_minor": 2
}
